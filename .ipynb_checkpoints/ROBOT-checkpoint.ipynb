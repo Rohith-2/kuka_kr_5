{
 "cells": [
  {
   "cell_type": "markdown",
   "metadata": {},
   "source": [
    "# Forward and Inverse Kinematics for Kuka KR-5"
   ]
  },
  {
   "cell_type": "code",
   "execution_count": 1,
   "metadata": {},
   "outputs": [],
   "source": [
    "from mpl_toolkits import mplot3d\n",
    "%matplotlib inline\n",
    "import numpy as np\n",
    "import matplotlib.pyplot as plt\n",
    "from math import *\n",
    "from numpy import deg2rad\n",
    "from ipywidgets import interactive,FloatSlider\n",
    "#from IPython.html.widgets import FloatSlider\n",
    "import matplotlib.pyplot as plt\n",
    "np.random.seed(9)\n",
    "import time"
   ]
  },
  {
   "cell_type": "markdown",
   "metadata": {},
   "source": [
    "#### DH-Matrix computed using the 4 DH-Parameters"
   ]
  },
  {
   "cell_type": "code",
   "execution_count": 2,
   "metadata": {},
   "outputs": [],
   "source": [
    "def H(q,al,a,d):\n",
    "    a = np.array([[cos(deg2rad(q)), -sin(deg2rad(q))*cos(al), sin(deg2rad(q))*sin(al), a*cos(deg2rad(q))],[sin(deg2rad(q)), cos(deg2rad(q))*cos(al), -cos(deg2rad(q))*sin(al), a*sin(deg2rad(q))],[0,sin(al),cos(al),d],[0,0,0,1]]);\n",
    "    return a"
   ]
  },
  {
   "cell_type": "markdown",
   "metadata": {},
   "source": [
    "### Function for computing the end-effector coordinates (Forward Kinematics)"
   ]
  },
  {
   "cell_type": "code",
   "execution_count": 3,
   "metadata": {},
   "outputs": [],
   "source": [
    "def FK(a):\n",
    "    q1 = a[0];q2=a[1];q3=a[2];q4=a[3];q5=a[4];q6=a[5];\n",
    "\n",
    "    b1 = 0.400 ; a1 = .180 ; al1 = deg2rad(90);\n",
    "    b2 = .0   ; a2 = .600 ; al2 = deg2rad(0) ;\n",
    "    b3 = .0   ; a3 = .120 ; al3 = deg2rad(90);\n",
    "    b4 = .620 ; a4 = 0   ; al4 = deg2rad(90); \n",
    "    b5 = .0   ; a5 = 0   ; al5 = deg2rad(90);\n",
    "    b6 = .115 ; a6 = 0   ; al6 = deg2rad(0) ;\n",
    "\n",
    "    T = np.matmul(H(q1,al1,a1,b1) , np.matmul(H(q2,al2,a2,b2) , np.matmul(H(q3,al3,a3,b3) , np.matmul(H(q4,al4,a4,b4) , np.matmul(H(q5,al5,a5,b5) , H(q6,al6,a6,b6))))));\n",
    "    t1 = H(q1,al1,a1,b1)\n",
    "    t2 = np.matmul(t1,H(q2,al2,a2,b2))\n",
    "    t3 = np.matmul(t2,H(q3,al3,a3,b3))\n",
    "    t4 = np.matmul(t3,H(q4,al4,a4,b4))\n",
    "    t5 = np.matmul(t4,H(q5,al5,a5,b5))\n",
    "    t6 = np.matmul(t5,H(q6,al6,a6,b6))\n",
    "    return T,t1,t2,t3,t4,t5,t6"
   ]
  },
  {
   "cell_type": "markdown",
   "metadata": {},
   "source": [
    "### Example of computation of Forward Kinematics:"
   ]
  },
  {
   "cell_type": "code",
   "execution_count": 4,
   "metadata": {},
   "outputs": [],
   "source": [
    "a,t1,t2,t3,t4,t5,t6 = FK([0,90,0,0,270,-180])"
   ]
  },
  {
   "cell_type": "code",
   "execution_count": 5,
   "metadata": {},
   "outputs": [
    {
     "name": "stdout",
     "output_type": "stream",
     "text": [
      "[[ 1.00000000e+00 -2.44929360e-16  1.22464680e-16  8.00000000e-01]\n",
      " [-2.44929360e-16 -1.00000000e+00 -2.46519033e-32  6.12323400e-18]\n",
      " [ 1.22464680e-16 -1.23259516e-32 -1.00000000e+00  1.00500000e+00]\n",
      " [ 0.00000000e+00  0.00000000e+00  0.00000000e+00  1.00000000e+00]]\n"
     ]
    }
   ],
   "source": [
    "print(a)"
   ]
  },
  {
   "cell_type": "markdown",
   "metadata": {},
   "source": [
    "## Interactive Forward Kinematics with Real-Time Computation"
   ]
  },
  {
   "cell_type": "code",
   "execution_count": 6,
   "metadata": {},
   "outputs": [],
   "source": [
    "o_x=[]\n",
    "o_y=[]\n",
    "o_z=[]\n",
    "o_x1=[]\n",
    "o_y1=[]\n",
    "o_z1=[]"
   ]
  },
  {
   "cell_type": "markdown",
   "metadata": {},
   "source": [
    "Function to extarct all the coordinates for each joint and plot them with the input as arm angles."
   ]
  },
  {
   "cell_type": "code",
   "execution_count": 7,
   "metadata": {},
   "outputs": [],
   "source": [
    "def draw(T1,T2,T3,T4,T5,T6):\n",
    "    a,t1,t2,t3,t4,t5,t6 = FK([T1,T2,T3,T4,T5,T6])\n",
    "    a1 = a[0:3,-1]\n",
    "    x1 = np.matmul(t1,np.array([0,0,0,1]))\n",
    "    x2 = np.matmul(t2,np.array([0,0,0,1]))\n",
    "    x3 = np.matmul(t3,np.array([0,0,0,1]))\n",
    "    x4 = np.matmul(t4,np.array([0,0,0,1]))\n",
    "    x5 = np.matmul(t5,np.array([0,0,0,1]))\n",
    "    x6 = np.matmul(t6,np.array([0,0,0,1]))\n",
    "    fig = plt.figure(figsize=(8,8))\n",
    "    ax = plt.axes(projection='3d')\n",
    "    \n",
    "    x = np.linspace(x1[0],x1[0],100)\n",
    "    y = np.linspace(x1[1],x1[1],100)\n",
    "    z = np.linspace(x1[2]-0.025,x1[2],100)\n",
    "    #ax.plot(x,-y,z,linewidth=20)\n",
    "\n",
    "    x = np.linspace(x1[0],x3[0],10)\n",
    "    y = np.linspace(x1[1],x3[1],10)\n",
    "    z = np.linspace(x1[2],x3[2],10)\n",
    "    ax.plot(x,y,z,linewidth=5)\n",
    "\n",
    "    \n",
    "    x = np.linspace(x3[0],x4[0],10)\n",
    "    y = np.linspace(x3[1],x4[1],10)\n",
    "    z = np.linspace(x3[2],x4[2],10)\n",
    "    ax.plot(x,y,z,linewidth=5)\n",
    "    \n",
    "    x = np.linspace(x4[0],x5[0],10)\n",
    "    y = np.linspace(x4[1],x5[1],10)\n",
    "    z = np.linspace(x4[2],x5[2],10)\n",
    "    ax.plot(x,y,z,linewidth=5)\n",
    "    \n",
    "    x = np.linspace(x5[0],x6[0],10)\n",
    "    y = np.linspace(x5[1],x6[1],10)\n",
    "    z = np.linspace(x5[2],x6[2],10)\n",
    "    ax.plot(x,y,z,linewidth=5)\n",
    "    \n",
    "    o_x.append(x6[0])\n",
    "    o_y.append(x6[1])\n",
    "    o_z.append(x6[2])\n",
    "    ax.scatter(x1[0],x1[1],x1[2]+0.02,s=400)\n",
    "   # ax.scatter(x2[0],x2[1],x2[2],s=100)\n",
    "    ax.scatter(x3[0],x3[1],x3[2],s=100)\n",
    "    ax.scatter(x4[0],x4[1],x4[2],s=100)\n",
    "    ax.scatter(x5[0],x5[1],x5[2],s=100)\n",
    "    ax.scatter(x6[0],x6[1],x6[2],s=100)\n",
    "    l = '(%f, %f, %f)' % (x6[0],x6[1],x6[2])\n",
    "    ax.text(x6[0],x6[1],x6[2],l)\n",
    "    ax.set_xlim3d(-1, 1)\n",
    "    ax.set_ylim3d(-1,1)\n",
    "    ax.set_zlim3d(0.2,1)\n",
    "    ax.plot(o_x,o_y,o_z)\n",
    "    np.set_printoptions(suppress=True)\n",
    "    print(a)   "
   ]
  },
  {
   "cell_type": "code",
   "execution_count": 8,
   "metadata": {},
   "outputs": [
    {
     "data": {
      "application/vnd.jupyter.widget-view+json": {
       "model_id": "546c9e6ccc8049d1b4a4f4074b496e16",
       "version_major": 2,
       "version_minor": 0
      },
      "text/plain": [
       "interactive(children=(FloatSlider(value=0.0, description='T1', max=155.0, min=-155.0), FloatSlider(value=90.0,…"
      ]
     },
     "metadata": {},
     "output_type": "display_data"
    }
   ],
   "source": [
    "F1 = FloatSlider(value=0,   min=-155,max=155)\n",
    "F2 = FloatSlider(value=90,  min=-65, max=180)\n",
    "F3 = FloatSlider(value=0,   min=-68, max=105)\n",
    "F4 = FloatSlider(value=0,   min=-350,max=350)\n",
    "F5 = FloatSlider(value=270, min=50,  max=310)\n",
    "F6 = FloatSlider(value=-180,min=-530,max=170)\n",
    "interactive_plot = interactive(draw, T1=F1,T2=F2,T3=F3,T4=F4,T5=F5,T6=F6)\n",
    "output = interactive_plot.children[-1]\n",
    "output.layout.height = '800px'\n",
    " \n",
    "interactive_plot"
   ]
  },
  {
   "cell_type": "markdown",
   "metadata": {},
   "source": [
    "## Inverse Kinematics"
   ]
  },
  {
   "cell_type": "code",
   "execution_count": 9,
   "metadata": {},
   "outputs": [],
   "source": [
    "from scipy.optimize import minimize,fmin\n",
    "from scipy.spatial.transform import Rotation as R"
   ]
  },
  {
   "cell_type": "code",
   "execution_count": 10,
   "metadata": {},
   "outputs": [],
   "source": [
    "def fitness_F(x,a,b,c,d,e,f):\n",
    "    i = [a,b,c,d,e,f]\n",
    "    a,_,_,_,_,_,_ = FK(x)\n",
    "    r = R.from_matrix(a[0:3,0:3])\n",
    "    p = np.concatenate((np.array(a[0:3,3]),np.array(r.as_euler('xyz', degrees=True))))\n",
    "    del_e = i - p\n",
    "    y = np.linalg.norm(del_e,4) + 2\n",
    "    return y"
   ]
  },
  {
   "cell_type": "code",
   "execution_count": 11,
   "metadata": {},
   "outputs": [],
   "source": [
    "def IK_F(i):\n",
    "    x0 = np.random.randint(100,size=(1,6))\n",
    "    res = fmin(fitness_F,x0,args=tuple(i),ftol=0.0001,maxiter=2000)\n",
    "    return res"
   ]
  },
  {
   "cell_type": "code",
   "execution_count": 12,
   "metadata": {},
   "outputs": [],
   "source": [
    "def draw_ik(i):\n",
    "    ee=i\n",
    "    a = IK(i)\n",
    "    r=a[0]\n",
    "    o=a[1]\n",
    "    h=a[2]\n",
    "    i=a[3]\n",
    "    t=a[4]\n",
    "    h1=a[5]\n",
    "    np.set_printoptions(suppress=True)\n",
    "    np.set_printoptions(precision=1)\n",
    "    print(\"\\n\",a,\"\\n\")\n",
    "    a,t1,t2,t3,t4,t5,t6 = FK([r,o,h,i,t,h1])\n",
    "    a1 = a[0:3,-1]\n",
    "    x1 = np.matmul(t1,np.array([0,0,0,1]))\n",
    "    x2 = np.matmul(t2,np.array([0,0,0,1]))\n",
    "    x3 = np.matmul(t3,np.array([0,0,0,1]))\n",
    "    x4 = np.matmul(t4,np.array([0,0,0,1]))\n",
    "    x5 = np.matmul(t5,np.array([0,0,0,1]))\n",
    "    x6 = np.matmul(t6,np.array([0,0,0,1]))\n",
    "    \n",
    "    fig = plt.figure(figsize=(10,10))\n",
    "    ax = plt.axes(projection='3d')\n",
    "\n",
    "    x = np.linspace(x1[0],x3[0],10)\n",
    "    y = np.linspace(x1[1],x3[1],10)\n",
    "    z = np.linspace(x1[2],x3[2],10)\n",
    "    ax.plot(x,y,z,linewidth=5)\n",
    "    \n",
    "    x = np.linspace(x2[0],x3[0],10)\n",
    "    y = np.linspace(x2[1],x3[1],10)\n",
    "    z = np.linspace(x2[2],x3[2],10)\n",
    "   # ax.plot(x,y,z,linewidth=5)\n",
    "    \n",
    "    x = np.linspace(x3[0],x4[0],10)\n",
    "    y = np.linspace(x3[1],x4[1],10)\n",
    "    z = np.linspace(x3[2],x4[2],10)\n",
    "    ax.plot(x,y,z,linewidth=5)\n",
    "    \n",
    "    x = np.linspace(x4[0],x5[0],10)\n",
    "    y = np.linspace(x4[1],x5[1],10)\n",
    "    z = np.linspace(x4[2],x5[2],10)\n",
    "    ax.plot(x,y,z,linewidth=5)\n",
    "    \n",
    "    x = np.linspace(x5[0],x6[0],10)\n",
    "    y = np.linspace(x5[1],x6[1],10)\n",
    "    z = np.linspace(x5[2],x6[2],10)\n",
    "    ax.plot(x,y,z,linewidth=5)\n",
    "    \n",
    "    o_x1.append(x6[0])\n",
    "    o_y1.append(x6[1])\n",
    "    o_z1.append(x6[2])\n",
    "    \n",
    "    ax.scatter(x1[0],x1[1],x1[2]+0.02,s=400)\n",
    "   # ax.scatter(x2[0],x2[1],x2[2],s=100)\n",
    "    ax.scatter(x3[0],x3[1],x3[2],s=100)\n",
    "    ax.scatter(x4[0],x4[1],x4[2],s=100)\n",
    "    ax.scatter(x5[0],x5[1],x5[2],s=100)\n",
    "    ax.scatter(x6[0],x6[1],x6[2],s=100)\n",
    "    l = '(%f, %f, %f)' % (x6[0],x6[1],x6[2])\n",
    "    ax.text(x6[0],x6[1],x6[2],l)\n",
    "    ax.set_xlim3d(-1, 1)\n",
    "    ax.set_ylim3d(-1,1)\n",
    "    ax.set_zlim3d(0.2,1)\n",
    "    #ax.plot(o_x1,o_y1,o_z1)\n",
    "    print(a)\n",
    "    print(\"\\n\",\"Error:\",np.linalg.norm(ee[0:3]-x6[0:3]*1000,2)/1000)"
   ]
  },
  {
   "cell_type": "code",
   "execution_count": 13,
   "metadata": {},
   "outputs": [],
   "source": [
    "i = [800,0, 1005, 180,0,0] #input in mm"
   ]
  },
  {
   "cell_type": "code",
   "execution_count": 14,
   "metadata": {},
   "outputs": [
    {
     "ename": "NameError",
     "evalue": "name 'IK' is not defined",
     "output_type": "error",
     "traceback": [
      "\u001b[0;31m---------------------------------------------------------------------------\u001b[0m",
      "\u001b[0;31mNameError\u001b[0m                                 Traceback (most recent call last)",
      "\u001b[0;32m<ipython-input-14-6ed9da0734fc>\u001b[0m in \u001b[0;36m<module>\u001b[0;34m\u001b[0m\n\u001b[0;32m----> 1\u001b[0;31m \u001b[0mdraw_ik\u001b[0m\u001b[0;34m(\u001b[0m\u001b[0mi\u001b[0m\u001b[0;34m)\u001b[0m\u001b[0;34m\u001b[0m\u001b[0;34m\u001b[0m\u001b[0m\n\u001b[0m",
      "\u001b[0;32m<ipython-input-12-49fb0c4c0d8a>\u001b[0m in \u001b[0;36mdraw_ik\u001b[0;34m(i)\u001b[0m\n\u001b[1;32m      1\u001b[0m \u001b[0;32mdef\u001b[0m \u001b[0mdraw_ik\u001b[0m\u001b[0;34m(\u001b[0m\u001b[0mi\u001b[0m\u001b[0;34m)\u001b[0m\u001b[0;34m:\u001b[0m\u001b[0;34m\u001b[0m\u001b[0;34m\u001b[0m\u001b[0m\n\u001b[1;32m      2\u001b[0m     \u001b[0mee\u001b[0m\u001b[0;34m=\u001b[0m\u001b[0mi\u001b[0m\u001b[0;34m\u001b[0m\u001b[0;34m\u001b[0m\u001b[0m\n\u001b[0;32m----> 3\u001b[0;31m     \u001b[0ma\u001b[0m \u001b[0;34m=\u001b[0m \u001b[0mIK\u001b[0m\u001b[0;34m(\u001b[0m\u001b[0mi\u001b[0m\u001b[0;34m)\u001b[0m\u001b[0;34m\u001b[0m\u001b[0;34m\u001b[0m\u001b[0m\n\u001b[0m\u001b[1;32m      4\u001b[0m     \u001b[0mr\u001b[0m\u001b[0;34m=\u001b[0m\u001b[0ma\u001b[0m\u001b[0;34m[\u001b[0m\u001b[0;36m0\u001b[0m\u001b[0;34m]\u001b[0m\u001b[0;34m\u001b[0m\u001b[0;34m\u001b[0m\u001b[0m\n\u001b[1;32m      5\u001b[0m     \u001b[0mo\u001b[0m\u001b[0;34m=\u001b[0m\u001b[0ma\u001b[0m\u001b[0;34m[\u001b[0m\u001b[0;36m1\u001b[0m\u001b[0;34m]\u001b[0m\u001b[0;34m\u001b[0m\u001b[0;34m\u001b[0m\u001b[0m\n",
      "\u001b[0;31mNameError\u001b[0m: name 'IK' is not defined"
     ]
    }
   ],
   "source": [
    "draw_ik(i)"
   ]
  },
  {
   "cell_type": "code",
   "execution_count": null,
   "metadata": {},
   "outputs": [],
   "source": [
    "%%time\n",
    "a=IK_F(i)"
   ]
  },
  {
   "cell_type": "code",
   "execution_count": null,
   "metadata": {},
   "outputs": [],
   "source": [
    "%%time\n",
    "_=FK(a)"
   ]
  },
  {
   "cell_type": "code",
   "execution_count": 15,
   "metadata": {},
   "outputs": [],
   "source": [
    "def draw_ik_csv(ii):     \n",
    "    fig = plt.figure(figsize=(10,10))\n",
    "    ax = plt.axes(projection='3d')\n",
    "    o_x=[]\n",
    "    o_y=[]\n",
    "    o_z=[]\n",
    "    for i in ii:\n",
    "        ax.cla()\n",
    "        ee=i\n",
    "        a = IK_F(i)\n",
    "        r=a[0]\n",
    "        o=a[1]\n",
    "        h=a[2]\n",
    "        i=a[3]\n",
    "        t=a[4]\n",
    "        h1=a[5]\n",
    "        np.set_printoptions(suppress=True)\n",
    "        np.set_printoptions(precision=1)\n",
    "        #print(\"\\n\",a,\"\\n\")\n",
    "        a,t1,t2,t3,t4,t5,t6 = FK([r,o,h,i,t,h1])\n",
    "        a1 = a[0:3,-1]\n",
    "        x1 = np.matmul(t1,np.array([0,0,0,1]))\n",
    "        x2 = np.matmul(t2,np.array([0,0,0,1]))\n",
    "        x3 = np.matmul(t3,np.array([0,0,0,1]))\n",
    "        x4 = np.matmul(t4,np.array([0,0,0,1]))\n",
    "        x5 = np.matmul(t5,np.array([0,0,0,1]))\n",
    "        x6 = np.matmul(t6,np.array([0,0,0,1]))\n",
    "\n",
    "\n",
    "        x = np.linspace(x1[0],x3[0],10)\n",
    "        y = np.linspace(x1[1],x3[1],10)\n",
    "        z = np.linspace(x1[2],x3[2],10)\n",
    "        ax.plot(x,y,z,linewidth=5)\n",
    "\n",
    "        x = np.linspace(x2[0],x3[0],10)\n",
    "        y = np.linspace(x2[1],x3[1],10)\n",
    "        z = np.linspace(x2[2],x3[2],10)\n",
    "       # ax.plot(x,y,z,linewidth=5)\n",
    "\n",
    "        x = np.linspace(x3[0],x4[0],10)\n",
    "        y = np.linspace(x3[1],x4[1],10)\n",
    "        z = np.linspace(x3[2],x4[2],10)\n",
    "        ax.plot(x,y,z,linewidth=5)\n",
    "\n",
    "        x = np.linspace(x4[0],x5[0],10)\n",
    "        y = np.linspace(x4[1],x5[1],10)\n",
    "        z = np.linspace(x4[2],x5[2],10)\n",
    "        ax.plot(x,y,z,linewidth=5)\n",
    "\n",
    "        x = np.linspace(x5[0],x6[0],10)\n",
    "        y = np.linspace(x5[1],x6[1],10)\n",
    "        z = np.linspace(x5[2],x6[2],10)\n",
    "        ax.plot(x,y,z,linewidth=5)\n",
    "\n",
    "        o_x.append(x6[0])\n",
    "        o_y.append(x6[1])\n",
    "        o_z.append(x6[2])\n",
    "        ax.scatter(x1[0],x1[1],x1[2]+0.02,s=400)\n",
    "       # ax.scatter(x2[0],x2[1],x2[2],s=100)\n",
    "        ax.scatter(x3[0],x3[1],x3[2],s=100)\n",
    "        ax.scatter(x4[0],x4[1],x4[2],s=100)\n",
    "        ax.scatter(x5[0],x5[1],x5[2],s=100)\n",
    "        ax.scatter(x6[0],x6[1],x6[2],s=100)\n",
    "\n",
    "        ax.set_xlim3d(-1, 1)\n",
    "        ax.set_ylim3d(-1,1)\n",
    "        ax.set_zlim3d(0.2,1)\n",
    "        ax.plot(o_x,o_y,o_z)\n",
    "    print(a)\n",
    "    print(\"\\n\",\"Error:\",np.linalg.norm(ee[0:3]-x6[0:3]*1000,2)/1000)"
   ]
  },
  {
   "cell_type": "code",
   "execution_count": 16,
   "metadata": {},
   "outputs": [],
   "source": [
    "def draw_csv(ii):\n",
    "    fig = plt.figure(figsize=(8,8))\n",
    "    ax = plt.axes(projection='3d')\n",
    "    o_x=[]\n",
    "    o_y=[]\n",
    "    o_z=[]\n",
    "    for i in ii:\n",
    "        ax.cla()\n",
    "        a,t1,t2,t3,t4,t5,t6 = FK(i)\n",
    "        a1 = a[0:3,-1]\n",
    "        x1 = np.matmul(t1,np.array([0,0,0,1]))\n",
    "        x2 = np.matmul(t2,np.array([0,0,0,1]))\n",
    "        x3 = np.matmul(t3,np.array([0,0,0,1]))\n",
    "        x4 = np.matmul(t4,np.array([0,0,0,1]))\n",
    "        x5 = np.matmul(t5,np.array([0,0,0,1]))\n",
    "        x6 = np.matmul(t6,np.array([0,0,0,1]))\n",
    "\n",
    "\n",
    "        x = np.linspace(x1[0],x1[0],100)\n",
    "        y = np.linspace(x1[1],x1[1],100)\n",
    "        z = np.linspace(x1[2]-0.025,x1[2],100)\n",
    "        #ax.plot(x,-y,z,linewidth=20)\n",
    "\n",
    "        x = np.linspace(x1[0],x3[0],10)\n",
    "        y = np.linspace(x1[1],x3[1],10)\n",
    "        z = np.linspace(x1[2],x3[2],10)\n",
    "        ax.plot(x,y,z,linewidth=5)\n",
    "\n",
    "\n",
    "        x = np.linspace(x3[0],x4[0],10)\n",
    "        y = np.linspace(x3[1],x4[1],10)\n",
    "        z = np.linspace(x3[2],x4[2],10)\n",
    "        ax.plot(x,y,z,linewidth=5)\n",
    "\n",
    "        x = np.linspace(x4[0],x5[0],10)\n",
    "        y = np.linspace(x4[1],x5[1],10)\n",
    "        z = np.linspace(x4[2],x5[2],10)\n",
    "        ax.plot(x,y,z,linewidth=5)\n",
    "\n",
    "        x = np.linspace(x5[0],x6[0],10)\n",
    "        y = np.linspace(x5[1],x6[1],10)\n",
    "        z = np.linspace(x5[2],x6[2],10)\n",
    "        ax.plot(x,y,z,linewidth=5)\n",
    "\n",
    "        o_x.append(x6[0])\n",
    "        o_y.append(x6[1])\n",
    "        o_z.append(x6[2])\n",
    "        ax.scatter(x1[0],x1[1],x1[2]+0.02,s=400)\n",
    "       # ax.scatter(x2[0],x2[1],x2[2],s=100)\n",
    "        ax.scatter(x3[0],x3[1],x3[2],s=100)\n",
    "        ax.scatter(x4[0],x4[1],x4[2],s=100)\n",
    "        ax.scatter(x5[0],x5[1],x5[2],s=100)\n",
    "        ax.scatter(x6[0],x6[1],x6[2],s=100)\n",
    "        l = '(%f, %f, %f)' % (x6[0],x6[1],x6[2])\n",
    "        ax.text(x6[0],x6[1],x6[2],l)\n",
    "        ax.set_xlim3d(-1, 1)\n",
    "        ax.set_ylim3d(-1,1)\n",
    "        ax.set_zlim3d(0.2,1)\n",
    "        ax.plot(o_x,o_y,o_z)\n",
    "        time.sleep(0.1) \n",
    "        np.set_printoptions(suppress=True)\n",
    "    print(a)   "
   ]
  },
  {
   "cell_type": "code",
   "execution_count": 17,
   "metadata": {},
   "outputs": [],
   "source": [
    "import pandas as pd"
   ]
  },
  {
   "cell_type": "code",
   "execution_count": 18,
   "metadata": {},
   "outputs": [],
   "source": [
    "D = pd.read_csv(\"gdhobara.csv\",header=None)"
   ]
  },
  {
   "cell_type": "code",
   "execution_count": 19,
   "metadata": {},
   "outputs": [],
   "source": [
    "D_array = D.to_numpy()"
   ]
  },
  {
   "cell_type": "code",
   "execution_count": 20,
   "metadata": {},
   "outputs": [
    {
     "name": "stdout",
     "output_type": "stream",
     "text": [
      "[[-0.40674073  0.91354364  0.00000413 -0.57267284]\n",
      " [ 0.91354364  0.40674073  0.00000218  0.92991755]\n",
      " [ 0.00000032  0.00000466 -1.          0.99163921]\n",
      " [ 0.          0.          0.          1.        ]]\n"
     ]
    },
    {
     "data": {
      "image/png": "[encoded data removed]",
      "text/plain": [
       "<Figure size 576x576 with 1 Axes>"
      ]
     },
     "metadata": {
      "needs_background": "light"
     },
     "output_type": "display_data"
    }
   ],
   "source": [
    "draw_csv(D_array)"
   ]
  },
  {
   "cell_type": "code",
   "execution_count": null,
   "metadata": {},
   "outputs": [],
   "source": [
    "D = pd.read_csv(\"coordinates_gshape.csv\",header=None)"
   ]
  },
  {
   "cell_type": "code",
   "execution_count": null,
   "metadata": {},
   "outputs": [],
   "source": [
    "D_array = D.to_numpy()"
   ]
  },
  {
   "cell_type": "code",
   "execution_count": null,
   "metadata": {},
   "outputs": [],
   "source": [
    "#draw_ik_csv(D_array)"
   ]
  },
  {
   "cell_type": "code",
   "execution_count": null,
   "metadata": {},
   "outputs": [],
   "source": []
  }
 ],
 "metadata": {
  "kernelspec": {
   "display_name": "Python 3.8.0 64-bit",
   "language": "python",
   "name": "python38064bit1060d4750c904259afeb7847dfa8ded2"
  },
  "language_info": {
   "codemirror_mode": {
    "name": "ipython",
    "version": 3
   },
   "file_extension": ".py",
   "mimetype": "text/x-python",
   "name": "python",
   "nbconvert_exporter": "python",
   "pygments_lexer": "ipython3",
   "version": "3.9.0"
  }
 },
 "nbformat": 4,
 "nbformat_minor": 4
}
